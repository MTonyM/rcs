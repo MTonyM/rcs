{
  "nbformat": 4,
  "nbformat_minor": 0,
  "metadata": {
    "colab": {
      "name": "get_partbbox_roi.ipynb",
      "provenance": [],
      "collapsed_sections": [],
      "include_colab_link": true
    },
    "kernelspec": {
      "name": "python3",
      "display_name": "Python 3"
    }
  },
  "cells": [
    {
      "cell_type": "markdown",
      "metadata": {
        "id": "view-in-github",
        "colab_type": "text"
      },
      "source": [
        "<a href=\"https://colab.research.google.com/github/MTonyM/rcs/blob/master/get_partbbox_roi.ipynb\" target=\"_parent\"><img src=\"https://colab.research.google.com/assets/colab-badge.svg\" alt=\"Open In Colab\"/></a>"
      ]
    },
    {
      "cell_type": "code",
      "metadata": {
        "id": "fSKRkAuyP4PE",
        "colab_type": "code",
        "colab": {
          "base_uri": "https://localhost:8080/",
          "height": 88
        },
        "outputId": "67453819-999a-4551-b6c0-faf8a191e0fc"
      },
      "source": [
        "\"\"\"\n",
        "peaks = [\n",
        "         [r, c, cls], ...\n",
        "]\n",
        "\"\"\"\n",
        "import cv2\n",
        "import numpy as np\n",
        "import matplotlib.pyplot as plt\n",
        "PART_INDEX_LIST_ALL = [[0,1,2,5,14,15,16,17], ## part1: nose, neck, Rsho, Lsho, Leye, Reye, Lear, Rear\n",
        "                       [2,3,4,5,6,7,8,11], ## part2: Rsho, Relb, Rwri, Lsho, Lelb, Lwri, Rhip, Lhip\n",
        "                       [8,9,10,11,12,13], ## part3: Rhip, Rkne, Rank, Lhip, Lkne, Lank\n",
        "                       [5,6,7], ## part4: Lsho, Lelb, Lwri\n",
        "                       [2,3,4], ## part5: Rsho, Relb, Rwri\n",
        "                       [11,12,13], ## part6: Lhip, Lkne, Lank\n",
        "                       [8,9,10], ## part7: Rhip, Rkne, Rank\n",
        "                       [2,5,8,11], ## part8: Rsho, Lsho, Rhip, Lhip\n",
        "                       [5,6], ## part9: Lsho, Lelb\n",
        "                       [6,7], ## part10: Lelb, Lwri\n",
        "                       [2,3], ## part11: Rsho, Relb\n",
        "                       [3,4], ## part12: Relb, Rwri\n",
        "                       [11,12], ## part13: Lhip, Lkne\n",
        "                       [12,13], ## part14: Lkne, Lank\n",
        "                       [8,9], ## part15: Rhip, Rkne\n",
        "                       [9,10], ## part16: Rkne, Rank\n",
        "                       range(0,18), ## part17: WholeBody\n",
        "                       [2, 3, 4, 8, 9, 10], ## part18: Left body\n",
        "                       [5, 6, 7, 11, 12, 13], ## part19: Right body\n",
        "                       ]\n",
        "PART_INDEX_LIST_ALL.append([[i] for i in range(18)])\n",
        "\n",
        "dataK_path = '/content/fashionWOMENTees_Tanksid0000796903_7additional.jpg.npy'\n",
        "peaks = np.load(dataK_path)\n",
        "shape_human = peaks.shape[:2]\n",
        "raw_corr = np.stack(np.nonzero(peaks), axis=-1)[:10]\n",
        "corr = np.zeros((18, 2), dtype=np.int32)\n",
        "for i in range(raw_corr.shape[0]):\n",
        "    cls = raw_corr[i, -1]\n",
        "    corr[cls, :] = raw_corr[i, :2]\n",
        "\n",
        "print(corr.T)\n",
        "### part list....\n",
        "part_bbox_list = []\n",
        "visibility_list = []\n",
        "for i in range(len(PART_INDEX_LIST_ALL)):\n",
        "    # for each part:\n",
        "    part_index = PART_INDEX_LIST_ALL[i]\n",
        "    part_kps = corr[np.array(part_index), :]\n",
        "    # print(np.all(part_kps == 0))\n",
        "    visibility_list.append(np.any(part_kps != 0))\n",
        "\n",
        "### decide if whole body\n",
        "wholebody = visibility_list[13] and visibility_list[14]\n",
        "r = 10 if wholebody else 20\n",
        "r_single = 20 if wholebody else 40\n",
        "\n",
        "for i in range(len(PART_INDEX_LIST_ALL)):\n",
        "    # for each part:\n",
        "    part_index = PART_INDEX_LIST_ALL[i]\n",
        "    r_peak_list, c_peak_list = [], []\n",
        "    part_kps = corr[np.array(part_index), :]\n",
        "\n",
        "    # print(np.all(part_kps == 0))\n",
        "    # if i > 2:\n",
        "        # break\n",
        "print(visibility_list)\n",
        "# 气死我了，mask和roi在PG2里没用到， 就先不写了。这里mark一下 等我先调通PG2再说！"
      ],
      "execution_count": 99,
      "outputs": [
        {
          "output_type": "stream",
          "text": [
            "[[ 31  56  59  94   0  53  90   0   0   0   0   0   0   0  27  27  31  31]\n",
            " [ 76  81  64  66   0  99 106   0   0   0   0   0   0   0  72  80  66  86]]\n",
            "[True, True, False, True, True, False, False, True, True, True, True, True, False, False, False, False, True, True, True, True]\n"
          ],
          "name": "stdout"
        }
      ]
    },
    {
      "cell_type": "code",
      "metadata": {
        "id": "TTS3DM8yXnMO",
        "colab_type": "code",
        "outputId": "9b0a47d6-d1ae-4f41-aeb9-da9d20a2da49",
        "colab": {
          "base_uri": "https://localhost:8080/",
          "height": 368
        }
      },
      "source": [
        "dataK_path = '/content/fashionWOMENTees_Tanksid0000796903_7additional.jpg.npy'\n",
        "peaks = np.load(dataK_path)\n",
        "def get_part_bbox(peaks, img_path=None, idx=None, img_H=256, img_W=172):\n",
        "\n",
        "def _get_sparse_keypoint(r, c, k, h, w, R):\n",
        "    r = int(r)\n",
        "    c = int(c)\n",
        "    k = int(k)\n",
        "    indices, values = [], []\n",
        "    for i in range(-R, R+1):\n",
        "        for j in range(-R, R+1):\n",
        "            distance = np.sqrt(float(i**2 + j**2))\n",
        "            if r+i >= 0 and r+i < h and c+j>=0 and c+j <w:\n",
        "                if distance < R:\n",
        "                    indices.append([r+i, c+j, k])\n",
        "                    values.append(1)\n",
        "    return indices, values"
      ],
      "execution_count": 0,
      "outputs": [
        {
          "output_type": "error",
          "ename": "ModuleNotFoundError",
          "evalue": "ignored",
          "traceback": [
            "\u001b[0;31m---------------------------------------------------------------------------\u001b[0m",
            "\u001b[0;31mModuleNotFoundError\u001b[0m                       Traceback (most recent call last)",
            "\u001b[0;32m<ipython-input-86-d08e7d3e55bf>\u001b[0m in \u001b[0;36m<module>\u001b[0;34m()\u001b[0m\n\u001b[0;32m----> 1\u001b[0;31m \u001b[0;32mfrom\u001b[0m \u001b[0;34m.\u001b[0m\u001b[0mget_mask\u001b[0m \u001b[0;32mimport\u001b[0m \u001b[0mget_mask\u001b[0m\u001b[0;34m\u001b[0m\u001b[0;34m\u001b[0m\u001b[0m\n\u001b[0m\u001b[1;32m      2\u001b[0m \u001b[0mdataK_path\u001b[0m \u001b[0;34m=\u001b[0m \u001b[0;34m'/content/fashionWOMENTees_Tanksid0000796903_7additional.jpg.npy'\u001b[0m\u001b[0;34m\u001b[0m\u001b[0;34m\u001b[0m\u001b[0m\n\u001b[1;32m      3\u001b[0m \u001b[0mpeaks\u001b[0m \u001b[0;34m=\u001b[0m \u001b[0mnp\u001b[0m\u001b[0;34m.\u001b[0m\u001b[0mload\u001b[0m\u001b[0;34m(\u001b[0m\u001b[0mdataK_path\u001b[0m\u001b[0;34m)\u001b[0m\u001b[0;34m\u001b[0m\u001b[0;34m\u001b[0m\u001b[0m\n\u001b[1;32m      4\u001b[0m \u001b[0mmask\u001b[0m \u001b[0;34m=\u001b[0m \u001b[0mget_mask_by_peaks\u001b[0m\u001b[0;34m(\u001b[0m\u001b[0mpeaks\u001b[0m\u001b[0;34m)\u001b[0m\u001b[0;34m\u001b[0m\u001b[0;34m\u001b[0m\u001b[0m\n\u001b[1;32m      5\u001b[0m \u001b[0mplt\u001b[0m\u001b[0;34m.\u001b[0m\u001b[0mimshow\u001b[0m\u001b[0;34m(\u001b[0m\u001b[0mmask\u001b[0m\u001b[0;34m)\u001b[0m\u001b[0;34m\u001b[0m\u001b[0;34m\u001b[0m\u001b[0m\n",
            "\u001b[0;31mModuleNotFoundError\u001b[0m: No module named '__main__.get_mask'; '__main__' is not a package",
            "",
            "\u001b[0;31m---------------------------------------------------------------------------\u001b[0;32m\nNOTE: If your import is failing due to a missing package, you can\nmanually install dependencies using either !pip or !apt.\n\nTo view examples of installing some common dependencies, click the\n\"Open Examples\" button below.\n\u001b[0;31m---------------------------------------------------------------------------\u001b[0m\n"
          ]
        }
      ]
    },
    {
      "cell_type": "code",
      "metadata": {
        "id": "7DcBsFBjToc7",
        "colab_type": "code",
        "colab": {}
      },
      "source": [
        ""
      ],
      "execution_count": 0,
      "outputs": []
    }
  ]
}