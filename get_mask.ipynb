{
  "nbformat": 4,
  "nbformat_minor": 0,
  "metadata": {
    "colab": {
      "name": "get_mask.ipynb",
      "provenance": [],
      "collapsed_sections": [],
      "include_colab_link": true
    },
    "kernelspec": {
      "name": "python3",
      "display_name": "Python 3"
    }
  },
  "cells": [
    {
      "cell_type": "markdown",
      "metadata": {
        "id": "view-in-github",
        "colab_type": "text"
      },
      "source": [
        "<a href=\"https://colab.research.google.com/github/MTonyM/rcs/blob/master/get_mask.ipynb\" target=\"_parent\"><img src=\"https://colab.research.google.com/assets/colab-badge.svg\" alt=\"Open In Colab\"/></a>"
      ]
    },
    {
      "cell_type": "code",
      "metadata": {
        "id": "fSKRkAuyP4PE",
        "colab_type": "code",
        "colab": {}
      },
      "source": [
        "\"\"\"\n",
        "peaks = [\n",
        "         [r, c, cls], ...\n",
        "]\n",
        "\"\"\"\n",
        "import cv2\n",
        "import numpy as np\n",
        "import matplotlib.pyplot as plt\n",
        "from skimage.morphology import square, dilation, erosion\n",
        "LIMSEQ = [[2,3] ,[2,6], [3,4], [4,5], [6,7], [7,8], [9,10],  \n",
        "          [10,11], [12,13], [13,14], [1,15], [15,17], \n",
        "          [1,16], [16,18], [9,12], [12,6], [9,3], [2, 17], [2, 18]]\n",
        "CODESEQ = [2, 3, 9, 12, 6, 2, 18, 16, 15, 17, 2]\n",
        "# index should be 0-based.\n",
        "codeseq = [x - 1 for x in CODESEQ]"
      ],
      "execution_count": 0,
      "outputs": []
    },
    {
      "cell_type": "code",
      "metadata": {
        "id": "TTS3DM8yXnMO",
        "colab_type": "code",
        "outputId": "b443bd75-b79c-4805-9981-f74ec91da8bf",
        "colab": {
          "base_uri": "https://localhost:8080/",
          "height": 320
        }
      },
      "source": [
        "def _get_sparse_keypoint(r, c, k, h, w, R):\n",
        "    r = int(r)\n",
        "    c = int(c)\n",
        "    k = int(k)\n",
        "    indices, values = [], []\n",
        "    for i in range(-R, R+1):\n",
        "        for j in range(-R, R+1):\n",
        "            distance = np.sqrt(float(i**2 + j**2))\n",
        "            if r+i >= 0 and r+i < h and c+j>=0 and c+j <w:\n",
        "                if distance < R:\n",
        "                    indices.append([r+i, c+j, k])\n",
        "                    values.append(1)\n",
        "    return indices, values\n",
        "\n",
        "def _get_mask_data_by_corr(corr, shape_human, radius):\n",
        "    indices = []\n",
        "    values = []\n",
        "    h, w = shape_human\n",
        "    mask = np.zeros((h ,w))\n",
        "    codeseq = [x - 1 for x in CODESEQ]\n",
        "    print(codeseq)\n",
        "    for limb in LIMSEQ:\n",
        "        p0, p1 = corr[limb[0]-1], corr[limb[1]-1]\n",
        "        if np.all(p0==0) or np.all(p1==0):\n",
        "            print(p0, p1, limb)\n",
        "            if np.all(p0==0) and limb[0] - 1  in codeseq:\n",
        "                codeseq.remove(limb[0] - 1)\n",
        "            if np.all(p1==0) and limb[1] - 1 in codeseq:\n",
        "                codeseq.remove(limb[1] - 1)\n",
        "            continue\n",
        "        c0, r0 = p0[:2][::-1]\n",
        "        c1, r1 = p1[:2][::-1]\n",
        "        # print(r0, c0, r1, c1)\n",
        "        ind0, val0 = _get_sparse_keypoint(r0, c0, 0, h, w, radius)\n",
        "        ind1, val1 = _get_sparse_keypoint(r1, c1, 0, h, w, radius)\n",
        "        distance = np.sqrt((r0-r1)**2 + (c0-c1)**2)\n",
        "        sampleN = int(distance / radius) * 100\n",
        "        for i in range(1, sampleN ):\n",
        "            r = int(r0 + (r1 - r0) * (i / sampleN))\n",
        "            c = int(c0 + (c1 - c0) * (i / sampleN))\n",
        "            ind, val = _get_sparse_keypoint(r, c, 0, h, w, radius)\n",
        "            indices += ind\n",
        "            values += val\n",
        "        indices += ind0 + ind1\n",
        "        values += val0 + val1\n",
        "\n",
        "    indices = np.array(indices)\n",
        "    print(codeseq)\n",
        "    ind_r, ind_c = np.split(indices[:, :2], 2, axis=-1)\n",
        "    mask[ind_r, ind_c] = 1\n",
        "    cv2.fillPoly(mask, np.int32([corr[codeseq][:, :2][:,::-1]]), 1, (1))\n",
        "    # mask = dilation(mask, square(5))\n",
        "    # mask = erosion(mask, square(5))\n",
        "    return mask\n",
        "\n",
        "def get_mask_by_peaks(peaks, radius=4):\n",
        "    shape_human = peaks.shape[:2]\n",
        "    raw_corr = np.stack(np.nonzero(peaks), axis=-1)\n",
        "    corr = np.zeros((18, 2), dtype=np.int32)\n",
        "    for i in range(raw_corr.shape[0]):\n",
        "        cls = raw_corr[i, -1]\n",
        "        corr[cls, :] = raw_corr[i, :2]\n",
        "    mask = _get_mask_data_by_corr(corr, shape_human, radius)\n",
        "    return mask\n",
        "\n",
        "dataK_path = '/content/fashionWOMENTees_Tanksid0000796903_7additional.jpg.npy'\n",
        "peaks = np.load(dataK_path)\n",
        "mask = get_mask_by_peaks(peaks)\n",
        "plt.imshow(mask)\n",
        "plt.show()\n",
        "cv2.imwrite('mask.png', mask*255)"
      ],
      "execution_count": 83,
      "outputs": [
        {
          "output_type": "stream",
          "text": [
            "[1, 2, 8, 11, 5, 1, 17, 15, 14, 16, 1]\n",
            "[1, 2, 8, 11, 5, 1, 17, 15, 14, 16, 1]\n"
          ],
          "name": "stdout"
        },
        {
          "output_type": "display_data",
          "data": {
            "image/png": "[encoded data removed]",
            "text/plain": [
              "<Figure size 432x288 with 1 Axes>"
            ]
          },
          "metadata": {
            "tags": []
          }
        },
        {
          "output_type": "execute_result",
          "data": {
            "text/plain": [
              "True"
            ]
          },
          "metadata": {
            "tags": []
          },
          "execution_count": 83
        }
      ]
    },
    {
      "cell_type": "code",
      "metadata": {
        "id": "7DcBsFBjToc7",
        "colab_type": "code",
        "colab": {}
      },
      "source": [
        ""
      ],
      "execution_count": 0,
      "outputs": []
    }
  ]
}